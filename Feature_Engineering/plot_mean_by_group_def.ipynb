{
 "cells": [
  {
   "cell_type": "code",
   "execution_count": null,
   "id": "5c0969a8",
   "metadata": {},
   "outputs": [],
   "source": [
    "import matplotlib.pyplot as plt\n",
    "\n",
    "def plot_mean_by_group(df, dependent_var, independent_vars):\n",
    "    \"\"\"\n",
    "    Generate bar plots of the mean of a dependent variable (numeric variable) grouped by independent variable (categorical variables).\n",
    "\n",
    "    Parameters:\n",
    "    - df: Pandas DataFrame\n",
    "    - dependent_var: string, the name of the dependent variable column\n",
    "    - independent_vars: list of strings, the names of the independent variable columns\n",
    "\n",
    "    Returns:\n",
    "    - None\n",
    "    \"\"\"\n",
    "    # Iterate over each independent variable and generate a bar plot of the mean of the dependent variable\n",
    "    for var in independent_vars:\n",
    "        grouped = df.groupby(var).mean()[dependent_var]\n",
    "        grouped.plot.bar(figsize=(8,6))\n",
    "        plt.title(f'Mean {dependent_var} groupby {var}')\n",
    "        plt.xlabel(var)\n",
    "        plt.ylabel(dependent_var)\n",
    "        plt.tight_layout()\n",
    "        plt.show()"
   ]
  },
  {
   "cell_type": "code",
   "execution_count": null,
   "id": "7c464289",
   "metadata": {},
   "outputs": [],
   "source": [
    "plot_mean_by_group (df, 'Price', ['Type','Method','CouncilArea'])"
   ]
  }
 ],
 "metadata": {
  "kernelspec": {
   "display_name": "Python 3 (ipykernel)",
   "language": "python",
   "name": "python3"
  },
  "language_info": {
   "codemirror_mode": {
    "name": "ipython",
    "version": 3
   },
   "file_extension": ".py",
   "mimetype": "text/x-python",
   "name": "python",
   "nbconvert_exporter": "python",
   "pygments_lexer": "ipython3",
   "version": "3.10.9"
  }
 },
 "nbformat": 4,
 "nbformat_minor": 5
}
