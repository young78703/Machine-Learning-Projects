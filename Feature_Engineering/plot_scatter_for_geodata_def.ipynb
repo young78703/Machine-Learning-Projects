{
 "cells": [
  {
   "cell_type": "code",
   "execution_count": null,
   "id": "d2e24f4e",
   "metadata": {},
   "outputs": [],
   "source": [
    "import seaborn as sns\n",
    "import matplotlib.pyplot as plt\n",
    "import pandas as pd\n",
    "\n",
    "def plot_scatter_for_geodata(data, latitude, longitude, hue_var, size_var=None, facet=None, \n",
    "                             facet_height=6, facet_aspect=1.5, figsize=(15, 12), sizes=(1, 200), alpha=1):\n",
    "    \"\"\"\n",
    "    Generate a scatter plot of geospatial data with Seaborn.\n",
    "\n",
    "    Parameters:\n",
    "    data (pd.DataFrame): The input data.\n",
    "    latitude (numeric): The name or index of the column to use for the latitude axis.\n",
    "    longitude (numeric): The name or index of the column to use for the longitude axis.\n",
    "    hue_var (Any): The name or index of the column to use for the hue parameter.\n",
    "    size_var (Optional[numeric]): The name or index of the column to use for the size parameter.\n",
    "    facet (Optional[categorical]): The name or index of the column to use for the facet parameter.\n",
    "    facet_height (Optional[float]): The height of each facet in the facet grid.\n",
    "    facet_aspect (Optional[float]): The aspect ratio of each facet in the facet grid.\n",
    "    figsize (Optional[Tuple[float, float]]): The size of the figure.\n",
    "    sizes (Optional[Tuple[int, int]]): The size range for the markers.\n",
    "    alpha (Optional[float]): The transparency level of the markers. Must be between 0 and 1.\n",
    "\n",
    "    Returns:\n",
    "    ax (AxesSubplot): The scatter plot object.\n",
    "    \"\"\"\n",
    "    # Check that the longitude and latitude columns exist in the data and contain numeric values\n",
    "    if longitude not in data.columns:\n",
    "        raise ValueError(f\"Column '{longitude}' not found in the input data.\")\n",
    "    if not pd.api.types.is_numeric_dtype(data[longitude]):\n",
    "        raise ValueError(f\"Column '{longitude}' must contain numeric values.\")\n",
    "    if latitude not in data.columns:\n",
    "        raise ValueError(f\"Column '{latitude}' not found in the input data.\")\n",
    "    if not pd.api.types.is_numeric_dtype(data[latitude]):\n",
    "        raise ValueError(f\"Column '{latitude}' must contain numeric values.\")\n",
    "\n",
    "    # Check that the hue column exists in the data\n",
    "    if hue_var not in data.columns:\n",
    "        raise ValueError(f\"Column '{hue_var}' not found in the input data.\")\n",
    "\n",
    "    # Check that the size column exists in the data, if specified, and contains numeric values\n",
    "    if size_var is not None:\n",
    "        if size_var not in data.columns:\n",
    "            raise ValueError(f\"Column '{size_var}' not found in the input data.\")\n",
    "        if not pd.api.types.is_numeric_dtype(data[size_var]):\n",
    "            raise ValueError(f\"Column '{size_var}' must contain numeric values.\")\n",
    "\n",
    "    # Check that the facet column exists in the data, if specified, and contains categorical values\n",
    "    if facet is not None:\n",
    "        if facet not in data.columns:\n",
    "            raise ValueError(f\"Column '{facet}' not found in the input data.\")\n",
    "\n",
    "    # Check that the alpha parameter is between 0 and 1\n",
    "    if not 0 <= alpha <= 1:\n",
    "        raise ValueError(\"The alpha parameter must be between 0 and 1.\")\n",
    "\n",
    "    # Set the plot size and style\n",
    "    if facet:\n",
    "        fig_height = facet_height * data[facet].nunique()\n",
    "        fig_width = facet_aspect * data[facet].nunique()\n",
    "        fig_size = (fig_width, fig_height)\n",
    "    else:\n",
    "        fig_size = figsize\n",
    "    plt.figure(figsize=fig_size)\n",
    "    sns.set_style('darkgrid')\n",
    "\n",
    "    # Generate the scatter plot\n",
    "    if facet:\n",
    "        grid = sns.FacetGrid(data, col=facet, height=facet_height, aspect=facet_aspect, legend_out=True)\n",
    "        grid.map_dataframe(sns.scatterplot, x=latitude, y=longitude, hue=hue_var, size=size_var, sizes=sizes, palette='coolwarm', alpha=alpha)\n",
    "        ax = grid.axes[-1][-1]\n",
    "        ax.legend(loc='center left', bbox_to_anchor=(1, 0.5), fontsize=10, markerscale=1.5, labelspacing=1.2, edgecolor='black', frameon=True)\n",
    "    else:\n",
    "        ax = sns.scatterplot(data=data, x=latitude, y=longitude, hue=hue_var, size=size_var, sizes=sizes, palette='coolwarm', alpha=alpha)\n",
    "        ax.legend(bbox_to_anchor=(1.05, 1), loc=2, borderaxespad=0., title=hue_var, title_fontsize=12, fontsize=10, markerscale=1.5, labelspacing=1.2, edgecolor='black', frameon=True)\n",
    "\n",
    "    # Show the plot\n",
    "    plt.show()\n"
   ]
  },
  {
   "cell_type": "code",
   "execution_count": null,
   "id": "2e40707c",
   "metadata": {},
   "outputs": [],
   "source": [
    "plot_scatter_for_geodata(df, 'Lattitude', 'Longitude', 'Price', size_var='Rooms', sizes=(1,300), alpha=0.7)"
   ]
  },
  {
   "cell_type": "code",
   "execution_count": null,
   "id": "005c3fbc",
   "metadata": {},
   "outputs": [],
   "source": [
    "plot_scatter_for_geodata(df,'Lattitude', 'Longitude', 'Price', size_var='Rooms', facet='Type', alpha=0.5)"
   ]
  },
  {
   "cell_type": "code",
   "execution_count": null,
   "id": "b149b257",
   "metadata": {},
   "outputs": [],
   "source": [
    "plot_scatter_for_geodata(df,'Lattitude', 'Longitude', 'Price')"
   ]
  }
 ],
 "metadata": {
  "kernelspec": {
   "display_name": "Python 3 (ipykernel)",
   "language": "python",
   "name": "python3"
  },
  "language_info": {
   "codemirror_mode": {
    "name": "ipython",
    "version": 3
   },
   "file_extension": ".py",
   "mimetype": "text/x-python",
   "name": "python",
   "nbconvert_exporter": "python",
   "pygments_lexer": "ipython3",
   "version": "3.10.9"
  }
 },
 "nbformat": 4,
 "nbformat_minor": 5
}
