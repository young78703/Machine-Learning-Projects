{
 "cells": [
  {
   "cell_type": "code",
   "execution_count": null,
   "id": "f99de2bc",
   "metadata": {},
   "outputs": [],
   "source": [
    "# Check for outliers\n",
    "\n",
    "def plots_for_checking_outliers (data, column):\n",
    "  import matplotlib.pyplot as plt\n",
    "  import seaborn as sns\n",
    "  import statsmodels.api as sm\n",
    "  from scipy.stats import skew\n",
    "\n",
    "  fig, axes = plt.subplots(nrows=1, ncols=3, figsize=(12, 4))\n",
    "\n",
    "  # Histogram\n",
    "  sns.histplot(data[column], ax=axes[0])\n",
    "  axes[0].set_title(f\"Histogram of {column}\")\n",
    "\n",
    "  # Box plot\n",
    "  sns.boxplot(data[column], ax=axes[1])\n",
    "  axes[1].set_title(f\"Box plot of {column}\")\n",
    "\n",
    "  # Q-Q plot\n",
    "  sm.qqplot(data[column], line='s', ax=axes[2])\n",
    "  axes[2].set_title(f\"Q-Q plot of {column} against a normal distribution\")\n",
    "  skewness = skew(data[column])\n",
    "  axes[2].text(0.05, 0.95, f\"Skewness: {skewness:.2f}\", transform=axes[2].transAxes, ha='left', va='top')\n",
    "\n",
    "  plt.tight_layout()\n",
    "  plt.show()"
   ]
  },
  {
   "cell_type": "code",
   "execution_count": null,
   "id": "e3b58e5c",
   "metadata": {},
   "outputs": [],
   "source": [
    "plots_for_checking_outliers (df,'Price')"
   ]
  }
 ],
 "metadata": {
  "kernelspec": {
   "display_name": "Python 3 (ipykernel)",
   "language": "python",
   "name": "python3"
  },
  "language_info": {
   "codemirror_mode": {
    "name": "ipython",
    "version": 3
   },
   "file_extension": ".py",
   "mimetype": "text/x-python",
   "name": "python",
   "nbconvert_exporter": "python",
   "pygments_lexer": "ipython3",
   "version": "3.10.9"
  }
 },
 "nbformat": 4,
 "nbformat_minor": 5
}
