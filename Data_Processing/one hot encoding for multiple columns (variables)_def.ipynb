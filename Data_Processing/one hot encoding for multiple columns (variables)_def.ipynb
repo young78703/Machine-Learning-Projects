{
 "cells": [
  {
   "cell_type": "code",
   "execution_count": 1,
   "id": "3e45c708",
   "metadata": {},
   "outputs": [],
   "source": [
    "import pandas as pd\n",
    "from sklearn.preprocessing import OneHotEncoder\n",
    "from pandas.api.types import is_categorical_dtype\n",
    "\n",
    "def one_hot_encode(df, columns):\n",
    "    \"\"\"\n",
    "    Preprocesses categorical columns in a DataFrame using OneHotEncoder.\n",
    "\n",
    "    Parameters:\n",
    "        df (pandas.DataFrame): The DataFrame to preprocess.\n",
    "        columns (list of str): The names of the categorical columns to encode.\n",
    "\n",
    "    Returns:\n",
    "        pandas.DataFrame: The preprocessed DataFrame with the categorical columns\n",
    "            one-hot encoded and dropped.\n",
    "\n",
    "    Raises:\n",
    "        ValueError: If any of the specified columns do not exist in the DataFrame.\n",
    "        ValueError: If any of the specified columns do not contain categorical data.\n",
    "    \"\"\"\n",
    "    # Check that all specified columns exist in the DataFrame\n",
    "    missing_columns = set(columns) - set(df.columns)\n",
    "    if missing_columns:\n",
    "        raise ValueError(f\"Columns {missing_columns} not found in DataFrame\")\n",
    "\n",
    "    # Check that all specified columns contain categorical data\n",
    "    non_categorical_columns = [col for col in columns if not (is_categorical_dtype(df[col]) or df[col].dtype == object)]\n",
    "    if non_categorical_columns:\n",
    "        raise ValueError(f\"Columns {non_categorical_columns} do not contain categorical data\")\n",
    "\n",
    "    encoder = OneHotEncoder(drop='first', sparse=False)\n",
    "    encoded_array = encoder.fit_transform(df[columns])\n",
    "\n",
    "    # Create a DataFrame with the one-hot encoded arrays and feature names\n",
    "    encoded_df = pd.DataFrame(encoded_array, columns=encoder.get_feature_names_out(columns))\n",
    "\n",
    "    # Concatenate the original DataFrame and the encoded DataFrame\n",
    "    df = pd.concat([df, encoded_df], axis=1)\n",
    "\n",
    "    # Drop the original categorical columns\n",
    "    df.drop(columns, axis=1, inplace=True)\n",
    "\n",
    "    return df\n",
    "\n"
   ]
  },
  {
   "cell_type": "code",
   "execution_count": null,
   "id": "10a1f810",
   "metadata": {},
   "outputs": [],
   "source": [
    "df = one_hot_encode(df, ['Sex', 'Housing', 'Purpose'])\n",
    "df.head()"
   ]
  }
 ],
 "metadata": {
  "kernelspec": {
   "display_name": "Python 3 (ipykernel)",
   "language": "python",
   "name": "python3"
  },
  "language_info": {
   "codemirror_mode": {
    "name": "ipython",
    "version": 3
   },
   "file_extension": ".py",
   "mimetype": "text/x-python",
   "name": "python",
   "nbconvert_exporter": "python",
   "pygments_lexer": "ipython3",
   "version": "3.10.9"
  }
 },
 "nbformat": 4,
 "nbformat_minor": 5
}
