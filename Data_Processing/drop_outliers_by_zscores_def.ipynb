{
 "cells": [
  {
   "cell_type": "code",
   "execution_count": 1,
   "id": "b2bf5343",
   "metadata": {},
   "outputs": [],
   "source": [
    "from scipy import stats\n",
    "import numpy as np\n",
    "import pandas as pd\n",
    "\n",
    "def drop_outliers_by_zscores(data, column, lower_zscore, upper_zscore, inplace=False):\n",
    "    \"\"\"\n",
    "    Drops rows from a Pandas DataFrame based on z-scores of a given column.\n",
    "\n",
    "    Parameters:\n",
    "    data (pandas.DataFrame): The input data.\n",
    "    column (str): The name of the column to use for computing z-scores.\n",
    "    lower_zscore (float): The lower z-score boundary.\n",
    "    upper_zscore (float): The upper z-score boundary.\n",
    "    inplace (bool): If True, updates the DataFrame directly. If False, returns a new DataFrame with outliers dropped.\n",
    "\n",
    "    Returns:\n",
    "    pandas.DataFrame or None: The modified DataFrame with outliers dropped, if inplace is False;\n",
    "                              None, if inplace is True.\n",
    "    \"\"\"\n",
    "    # Check input arguments\n",
    "    if column not in data.columns:\n",
    "        raise ValueError(\"Column '%s' not found in data.\" % column)\n",
    "    if not np.isfinite(lower_zscore):\n",
    "        raise ValueError(\"Lower z-score boundary must be finite.\")\n",
    "    if not np.isfinite(upper_zscore):\n",
    "        raise ValueError(\"Upper z-score boundary must be finite.\")\n",
    "\n",
    "    # Compute z-scores\n",
    "    z_scores = pd.Series(stats.zscore(data[column]), index=data.index)\n",
    "\n",
    "    # Drop outliers outside boundaries\n",
    "    mask = (z_scores >= upper_zscore) | (z_scores <= lower_zscore)\n",
    "    \n",
    "    if inplace:\n",
    "        data.drop(data[mask].index, inplace=True)\n",
    "        return None\n",
    "    else:\n",
    "        return data.loc[~mask]\n"
   ]
  },
  {
   "cell_type": "code",
   "execution_count": null,
   "id": "8bb83455",
   "metadata": {},
   "outputs": [],
   "source": []
  }
 ],
 "metadata": {
  "kernelspec": {
   "display_name": "Python 3 (ipykernel)",
   "language": "python",
   "name": "python3"
  },
  "language_info": {
   "codemirror_mode": {
    "name": "ipython",
    "version": 3
   },
   "file_extension": ".py",
   "mimetype": "text/x-python",
   "name": "python",
   "nbconvert_exporter": "python",
   "pygments_lexer": "ipython3",
   "version": "3.11.5"
  }
 },
 "nbformat": 4,
 "nbformat_minor": 5
}
