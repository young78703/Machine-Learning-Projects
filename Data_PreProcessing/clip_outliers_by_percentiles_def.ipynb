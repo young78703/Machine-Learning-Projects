{
 "cells": [
  {
   "cell_type": "code",
   "execution_count": 1,
   "id": "c5796431",
   "metadata": {},
   "outputs": [],
   "source": [
    "import numpy as np\n",
    "\n",
    "def clip_outliers_by_percentiles(data, column, lower_percentile, upper_percentile):\n",
    "    \"\"\"\n",
    "    Clips the outliers of a column in a Pandas DataFrame based on percentiles.\n",
    "\n",
    "    Parameters:\n",
    "    data (pandas.DataFrame): The input data.\n",
    "    column (str): The name of the column to clip.\n",
    "    lower_percentile (float): The lower percentile bound (between 0 and 100).\n",
    "    upper_percentile (float): The upper percentile bound (between 0 and 100).\n",
    "\n",
    "    Returns:\n",
    "    pandas.DataFrame: The modified DataFrame with outliers clipped.\n",
    "    \"\"\"\n",
    "    # Check input arguments\n",
    "    if column not in data.columns:\n",
    "        raise ValueError(\"Column '%s' not found in data.\" % column)\n",
    "    if not (0 <= lower_percentile <= 100):\n",
    "        raise ValueError(\"Lower percentile bound must be between 0 and 100.\")\n",
    "    if not (0 <= upper_percentile <= 100):\n",
    "        raise ValueError(\"Upper percentile bound must be between 0 and 100.\")\n",
    "\n",
    "    # Compute percentiles\n",
    "    p_upper = np.percentile(data[column], upper_percentile)\n",
    "    p_lower = np.percentile(data[column], lower_percentile)\n",
    "\n",
    "    # Clip outliers\n",
    "    data[column] = data[column].clip(p_lower, p_upper)\n",
    "    return data"
   ]
  },
  {
   "cell_type": "code",
   "execution_count": null,
   "id": "73e78bb3",
   "metadata": {},
   "outputs": [],
   "source": []
  }
 ],
 "metadata": {
  "kernelspec": {
   "display_name": "Python 3 (ipykernel)",
   "language": "python",
   "name": "python3"
  },
  "language_info": {
   "codemirror_mode": {
    "name": "ipython",
    "version": 3
   },
   "file_extension": ".py",
   "mimetype": "text/x-python",
   "name": "python",
   "nbconvert_exporter": "python",
   "pygments_lexer": "ipython3",
   "version": "3.11.5"
  }
 },
 "nbformat": 4,
 "nbformat_minor": 5
}
