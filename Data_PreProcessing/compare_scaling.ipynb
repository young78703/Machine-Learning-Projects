{
 "cells": [
  {
   "cell_type": "code",
   "execution_count": null,
   "id": "42cecd50",
   "metadata": {},
   "outputs": [],
   "source": [
    "import pandas as pd\n",
    "import matplotlib.pyplot as plt\n",
    "from sklearn.preprocessing import StandardScaler\n",
    "\n",
    "def compare_scaling(df, dependent_var, drop_columns):\n",
    "    X = df.drop([dependent_var] + drop_columns, axis=1)\n",
    "    y = df[dependent_var]\n",
    "\n",
    "    # Data scaling\n",
    "    scaler = StandardScaler()\n",
    "    X_scaled = scaler.fit_transform(X)\n",
    "\n",
    "    # Create a DataFrame from the scaled dataset\n",
    "    df_scaled = pd.DataFrame(X_scaled, columns=X.columns)\n",
    "\n",
    "    # Compare distributions visually with histograms\n",
    "    fig, axes = plt.subplots(nrows=2, ncols=len(X.columns), figsize=(20, 6))\n",
    "    for i, col in enumerate(X.columns):\n",
    "        X[col].hist(ax=axes[0, i], alpha=0.5, color='blue', label='Original')\n",
    "        df_scaled[col].hist(ax=axes[1, i], alpha=0.5, color='red', label='Scaled')\n",
    "        axes[0, i].set_title(col)\n",
    "        axes[0, i].legend()\n",
    "        axes[1, i].legend()\n",
    "    plt.show()\n",
    "\n",
    "    # Compare descriptive statistics\n",
    "    original_stats = X.describe().loc[['mean', 'std']]\n",
    "    scaled_stats = df_scaled.describe().loc[['mean', 'std']]\n",
    "    print(\"Original Dataset Statistics:\\n\", original_stats)\n",
    "    print(\"\\nScaled Dataset Statistics:\\n\", scaled_stats)\n",
    "\n"
   ]
  },
  {
   "cell_type": "code",
   "execution_count": null,
   "id": "03eefe6c",
   "metadata": {},
   "outputs": [],
   "source": [
    "# Example usage\n",
    "dependent_var = 'Price'\n",
    "drop_columns = ['Suburb', 'Address', 'Type', 'Method', 'Bedroom2', 'SellerG', 'Date', 'Postcode', 'CouncilArea', 'Lattitude', 'Longitude', 'Regionname', 'year', 'month', 'day', 'dayofweek']\n",
    "compare_scaling(df, dependent_var, drop_columns)"
   ]
  }
 ],
 "metadata": {
  "kernelspec": {
   "display_name": "Python 3 (ipykernel)",
   "language": "python",
   "name": "python3"
  },
  "language_info": {
   "codemirror_mode": {
    "name": "ipython",
    "version": 3
   },
   "file_extension": ".py",
   "mimetype": "text/x-python",
   "name": "python",
   "nbconvert_exporter": "python",
   "pygments_lexer": "ipython3",
   "version": "3.10.9"
  }
 },
 "nbformat": 4,
 "nbformat_minor": 5
}
