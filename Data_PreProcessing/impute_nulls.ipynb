{
 "cells": [
  {
   "cell_type": "code",
   "execution_count": null,
   "id": "54855914",
   "metadata": {},
   "outputs": [],
   "source": [
    "def impute_nulls(df):\n",
    "    \"\"\"\n",
    "    Impute null values in a Pandas DataFrame based on the data type of each column.\n",
    "    - For float columns, impute with the mean.\n",
    "    - For integer columns, impute with the median.\n",
    "    - For object columns, impute with the mode.\n",
    "    - For datetime columns, impute with the most recent or most frequent date.\n",
    "    - For timedelta columns, impute with the mode.\n",
    "    - For bool columns, impute with the mode.\n",
    "    - For category columns, impute with the mode.\n",
    "    - For complex columns, impute with the mean.\n",
    "    \"\"\"\n",
    "    # Get data types of all columns\n",
    "    dtypes = df.dtypes\n",
    "\n",
    "    # Iterate over all columns\n",
    "    for col in df.columns:\n",
    "        # Check if column contains null values\n",
    "        if df[col].isnull().sum() > 0:\n",
    "            # Get data type of column\n",
    "            dtype = dtypes[col]\n",
    "            # Impute null values based on data type\n",
    "            if dtype == 'float64' or dtype == 'float32' or dtype == 'float16':\n",
    "                df[col] = df[col].fillna(df[col].mean())\n",
    "            elif dtype == 'int64' or dtype == 'int32' or dtype == 'int16' or dtype == 'int8':\n",
    "                df[col] = df[col].fillna(df[col].median())\n",
    "            elif dtype == 'object':\n",
    "                df[col] = df[col].fillna(df[col].mode()[0])\n",
    "            elif dtype == 'datetime64':\n",
    "                # For datetime, choosing to backfill, but can also forward fill or use a specific value\n",
    "                df[col] = df[col].fillna(method='bfill')\n",
    "            elif dtype == 'timedelta64':\n",
    "                df[col] = df[col].fillna(df[col].mode()[0])\n",
    "            elif dtype == 'bool':\n",
    "                df[col] = df[col].fillna(df[col].mode()[0])\n",
    "            elif dtype.name == 'category':\n",
    "                df[col] = df[col].fillna(df[col].mode()[0])\n",
    "            elif dtype == 'complex64' or dtype == 'complex128':\n",
    "                df[col] = df[col].fillna(df[col].mean())\n",
    "    return df\n"
   ]
  }
 ],
 "metadata": {
  "kernelspec": {
   "display_name": "Python 3 (ipykernel)",
   "language": "python",
   "name": "python3"
  },
  "language_info": {
   "codemirror_mode": {
    "name": "ipython",
    "version": 3
   },
   "file_extension": ".py",
   "mimetype": "text/x-python",
   "name": "python",
   "nbconvert_exporter": "python",
   "pygments_lexer": "ipython3",
   "version": "3.10.9"
  }
 },
 "nbformat": 4,
 "nbformat_minor": 5
}
