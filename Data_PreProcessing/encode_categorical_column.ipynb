{
 "cells": [
  {
   "cell_type": "code",
   "execution_count": null,
   "id": "103c5339",
   "metadata": {},
   "outputs": [],
   "source": [
    "import pandas as pd\n",
    "from sklearn.preprocessing import LabelEncoder\n",
    "from typing import Optional\n",
    "\n",
    "def encode_categorical_column(data: pd.DataFrame, column: str, mapping: Optional[dict] = None) -> pd.DataFrame:\n",
    "    \"\"\"\n",
    "    Encode a categorical column in the input dataframe using LabelEncoder or mapping.\n",
    "\n",
    "    :param data: input dataframe\n",
    "    :param column: column name to be encoded\n",
    "    :param mapping: optional dictionary defining the mapping for ordinal variables; defaults to None\n",
    "    :return: dataframe with the specified column encoded\n",
    "    \"\"\"\n",
    "    data = data.copy()\n",
    "\n",
    "    if mapping is not None:\n",
    "        # Use mapping for ordinal categorical variables\n",
    "        data[column] = data[column].map(mapping)\n",
    "    else:\n",
    "        # Use LabelEncoder for nominal categorical variables\n",
    "        encoder = LabelEncoder()\n",
    "        encoded = encoder.fit_transform(data[column])\n",
    "        data[column] = encoded\n",
    "\n",
    "    return data"
   ]
  }
 ],
 "metadata": {
  "kernelspec": {
   "display_name": "Python 3 (ipykernel)",
   "language": "python",
   "name": "python3"
  },
  "language_info": {
   "codemirror_mode": {
    "name": "ipython",
    "version": 3
   },
   "file_extension": ".py",
   "mimetype": "text/x-python",
   "name": "python",
   "nbconvert_exporter": "python",
   "pygments_lexer": "ipython3",
   "version": "3.10.9"
  }
 },
 "nbformat": 4,
 "nbformat_minor": 5
}
