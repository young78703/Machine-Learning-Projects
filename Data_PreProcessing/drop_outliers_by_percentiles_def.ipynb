{
 "cells": [
  {
   "cell_type": "code",
   "execution_count": 1,
   "id": "d144c5d6",
   "metadata": {},
   "outputs": [],
   "source": [
    "from scipy.stats import rankdata\n",
    "import pandas as pd\n",
    "\n",
    "def drop_outliers_by_percentiles(data, column, lower_percentile, upper_percentile, inplace=False):\n",
    "    \"\"\"\n",
    "    Drops rows from a Pandas DataFrame based on percentiles of a given column.\n",
    "\n",
    "    Parameters:\n",
    "    data (pandas.DataFrame): The input data.\n",
    "    column (str): The name of the column to use for computing percentiles.\n",
    "    lower_percentile (float): The lower percentile boundary (between 0 and 100).\n",
    "    upper_percentile (float): The upper percentile boundary (between 0 and 100).\n",
    "    inplace (bool): If True, updates the DataFrame directly. If False, returns a new DataFrame with outliers dropped.\n",
    "\n",
    "    Returns:\n",
    "    pandas.DataFrame or None: The modified DataFrame with outliers dropped, if inplace is False;\n",
    "                              None, if inplace is True.\n",
    "    \"\"\"\n",
    "    # Check input arguments\n",
    "    if column not in data.columns:\n",
    "        raise ValueError(\"Column '%s' not found in data.\" % column)\n",
    "    if not (0 <= lower_percentile <= 100):\n",
    "        raise ValueError(\"Lower percentile bound must be between 0 and 100.\")\n",
    "    if not (0 <= upper_percentile <= 100):\n",
    "        raise ValueError(\"Upper percentile bound must be between 0 and 100.\")\n",
    "\n",
    "    # Compute percentiles\n",
    "    percentiles = pd.Series((rankdata(data[column]) / len(data)) * 100)\n",
    "\n",
    "    # Drop outliers outside bounds\n",
    "    mask = (percentiles >= upper_percentile) | (percentiles <= lower_percentile)\n",
    "    \n",
    "    if inplace:\n",
    "        data.drop(data[mask].index, inplace=True)\n",
    "        return None\n",
    "    else:\n",
    "        return data.loc[~mask]"
   ]
  },
  {
   "cell_type": "code",
   "execution_count": null,
   "id": "1e07eb32",
   "metadata": {},
   "outputs": [],
   "source": []
  }
 ],
 "metadata": {
  "kernelspec": {
   "display_name": "Python 3 (ipykernel)",
   "language": "python",
   "name": "python3"
  },
  "language_info": {
   "codemirror_mode": {
    "name": "ipython",
    "version": 3
   },
   "file_extension": ".py",
   "mimetype": "text/x-python",
   "name": "python",
   "nbconvert_exporter": "python",
   "pygments_lexer": "ipython3",
   "version": "3.11.5"
  }
 },
 "nbformat": 4,
 "nbformat_minor": 5
}
