{
 "cells": [
  {
   "cell_type": "code",
   "execution_count": null,
   "id": "0fcb3e08",
   "metadata": {},
   "outputs": [],
   "source": [
    "def clip_outliers_by_zscores(data, column, upper_zscore, lower_zscore):\n",
    "    \"\"\"\n",
    "    Clips the outliers of a column in a Pandas DataFrame based on z-scores.\n",
    "\n",
    "    Parameters:\n",
    "    data (pandas.DataFrame): The input data.\n",
    "    column (str): The name of the column to clip.\n",
    "    lower_zscore (float): The lower z-score boundary.\n",
    "    upper_zscore (float): The upper z-score boundary.\n",
    "\n",
    "    Returns:\n",
    "    pandas.DataFrame: The modified DataFrame with outliers clipped.\n",
    "    \"\"\"\n",
    "    # Check input arguments\n",
    "    if column not in data.columns:\n",
    "        raise ValueError(\"Column '%s' not found in data.\" % column)\n",
    "    if not np.isfinite(lower_zscore):\n",
    "        raise ValueError(\"Lower z-score boundary must be finite.\")\n",
    "    if not np.isfinite(upper_zscore):\n",
    "        raise ValueError(\"Upper z-score boundary must be finite.\")\n",
    "\n",
    "    # Compute mean and standard deviation\n",
    "    mean = np.mean(data[column])\n",
    "    std_dev = np.std(data[column])\n",
    "\n",
    "    # Compute lower and upper value bounds based on z-scores\n",
    "    z_upper = lower_zscore * std_dev + mean\n",
    "    z_lower = upper_zscore * std_dev + mean\n",
    "\n",
    "    # Clip outliers\n",
    "    data[column] = data[column].clip(z_lower, z_upper)\n",
    "    return data\n",
    "\n"
   ]
  }
 ],
 "metadata": {
  "kernelspec": {
   "display_name": "Python 3 (ipykernel)",
   "language": "python",
   "name": "python3"
  },
  "language_info": {
   "codemirror_mode": {
    "name": "ipython",
    "version": 3
   },
   "file_extension": ".py",
   "mimetype": "text/x-python",
   "name": "python",
   "nbconvert_exporter": "python",
   "pygments_lexer": "ipython3",
   "version": "3.10.9"
  }
 },
 "nbformat": 4,
 "nbformat_minor": 5
}
