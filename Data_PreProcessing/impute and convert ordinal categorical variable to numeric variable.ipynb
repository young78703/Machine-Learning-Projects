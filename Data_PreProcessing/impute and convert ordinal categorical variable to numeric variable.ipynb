{
 "cells": [
  {
   "cell_type": "code",
   "execution_count": null,
   "id": "4891bbda",
   "metadata": {},
   "outputs": [],
   "source": [
    "import pandas as pd\n",
    "from sklearn.preprocessing import LabelEncoder, OneHotEncoder"
   ]
  },
  {
   "cell_type": "code",
   "execution_count": null,
   "id": "1315ec56",
   "metadata": {},
   "outputs": [],
   "source": [
    "# converting null into mode of categorical variable\n",
    "df['Checking account'] = df['Checking account'].fillna(df['Checking account'].mode().iloc[0])\n",
    "# Check the data transformation\n",
    "df['Checking account'].value_counts()"
   ]
  },
  {
   "cell_type": "code",
   "execution_count": null,
   "id": "6a72492f",
   "metadata": {},
   "outputs": [],
   "source": [
    "# Preprocess a categorical column (ordinal variable) using LabelEncoder\n",
    "# Convert ordinal categorical variable to numeric variable\n",
    "encoder = LabelEncoder()\n",
    "encoded = encoder.fit_transform(df['Checking account'])\n",
    "df['Checking account'] = encoded\n",
    "# Check the data transformation\n",
    "df['Checking account'].value_counts()"
   ]
  },
  {
   "cell_type": "code",
   "execution_count": null,
   "id": "186baf98",
   "metadata": {},
   "outputs": [],
   "source": [
    "# Preprocess a categorical column (ordinal variable) using mapping\n",
    "# Define a dictionary to map the categorical values to integers\n",
    "mapping = {'little': 0, 'moderate': 1, 'rich': 2}\n",
    "\n",
    "# Use the map method to apply the dictionary to the column\n",
    "df['Checking account'] = df['Checking account'].map(mapping)\n",
    "\n",
    "# Check the data transformation\n",
    "df['Checking account'].value_counts()"
   ]
  },
  {
   "cell_type": "code",
   "execution_count": null,
   "id": "b8833b5e",
   "metadata": {},
   "outputs": [],
   "source": [
    "# converting null into mode of categorical variable\n",
    "df['Checking account'] = df['Checking account'].fillna(df['Checking account'].median())\n",
    "# Check the data transformation\n",
    "df['Checking account'].value_counts()"
   ]
  }
 ],
 "metadata": {
  "kernelspec": {
   "display_name": "Python 3 (ipykernel)",
   "language": "python",
   "name": "python3"
  },
  "language_info": {
   "codemirror_mode": {
    "name": "ipython",
    "version": 3
   },
   "file_extension": ".py",
   "mimetype": "text/x-python",
   "name": "python",
   "nbconvert_exporter": "python",
   "pygments_lexer": "ipython3",
   "version": "3.10.9"
  }
 },
 "nbformat": 4,
 "nbformat_minor": 5
}
