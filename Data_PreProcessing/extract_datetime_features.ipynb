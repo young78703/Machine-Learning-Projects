{
 "cells": [
  {
   "cell_type": "code",
   "execution_count": 1,
   "id": "e61b6247",
   "metadata": {},
   "outputs": [],
   "source": [
    "import pandas as pd\n",
    "\n",
    "def extract_datetime_features(df, column_name):\n",
    "    \"\"\"\n",
    "    Convert a column in a Pandas DataFrame to datetime type and extract year, month, day, and\n",
    "    day of the week as new columns.\n",
    "\n",
    "    Parameters:\n",
    "    - df: Pandas DataFrame\n",
    "    - column_name: string, the name of the column to convert to datetime type\n",
    "\n",
    "    Returns:\n",
    "    - df: Pandas DataFrame with the new columns for year, month, day, and day of the week\n",
    "    \"\"\"\n",
    "    # Convert the column to datetime type\n",
    "    df[column_name] = pd.to_datetime(df[column_name], infer_datetime_format=True)\n",
    "\n",
    "    # Extract year, month, and day as new columns\n",
    "    if df[column_name].dt.year.any():\n",
    "        df['year'] = df[column_name].dt.year\n",
    "    else:\n",
    "        df['year'] = pd.NaT\n",
    "\n",
    "    if df[column_name].dt.month.any():\n",
    "        df['month'] = df[column_name].dt.month\n",
    "    else:\n",
    "        df['month'] = pd.NaT\n",
    "\n",
    "    if df[column_name].dt.day.any():\n",
    "        df['day'] = df[column_name].dt.day\n",
    "        df['dayofweek'] = df[column_name].dt.weekday\n",
    "    else:\n",
    "        df['day'] = pd.NaT\n",
    "        df['dayofweek'] = pd.NaT\n",
    "\n",
    "    return df"
   ]
  },
  {
   "cell_type": "code",
   "execution_count": null,
   "id": "92a71683",
   "metadata": {},
   "outputs": [],
   "source": []
  }
 ],
 "metadata": {
  "kernelspec": {
   "display_name": "Python 3 (ipykernel)",
   "language": "python",
   "name": "python3"
  },
  "language_info": {
   "codemirror_mode": {
    "name": "ipython",
    "version": 3
   },
   "file_extension": ".py",
   "mimetype": "text/x-python",
   "name": "python",
   "nbconvert_exporter": "python",
   "pygments_lexer": "ipython3",
   "version": "3.11.5"
  }
 },
 "nbformat": 4,
 "nbformat_minor": 5
}
